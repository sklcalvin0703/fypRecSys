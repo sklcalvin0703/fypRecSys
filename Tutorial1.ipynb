{
 "cells": [
  {
   "cell_type": "code",
   "execution_count": 10,
   "metadata": {},
   "outputs": [
    {
     "name": "stdout",
     "output_type": "stream",
     "text": [
      "[1 2 3]\n",
      "[[1 2 3]\n",
      " [4 5 6]]\n"
     ]
    }
   ],
   "source": [
    "#numpy scipy are python lib for scientific computing\n",
    "import numpy as np\n",
    "import scipy\n",
    "\n",
    "array1d = np.array([1,2,3]);\n",
    "print(array1d)\n",
    "array2d = np.array([(1,2,3),(4,5,6)])\n",
    "print(array2d)"
   ]
  },
  {
   "cell_type": "code",
   "execution_count": null,
   "metadata": {},
   "outputs": [],
   "source": [
    "#shape is a tuple which contains the size of the array ie (the number of rows, the number of\n",
    "# columns)"
   ]
  },
  {
   "cell_type": "code",
   "execution_count": 7,
   "metadata": {},
   "outputs": [
    {
     "name": "stdout",
     "output_type": "stream",
     "text": [
      "(2, 3)\n"
     ]
    }
   ],
   "source": [
    "print(array2d.shape)"
   ]
  },
  {
   "cell_type": "code",
   "execution_count": 8,
   "metadata": {},
   "outputs": [
    {
     "name": "stdout",
     "output_type": "stream",
     "text": [
      "6\n"
     ]
    }
   ],
   "source": [
    "#print the element in the 2d array (numpy)\n",
    "print(array2d[1,2])"
   ]
  },
  {
   "cell_type": "code",
   "execution_count": 9,
   "metadata": {},
   "outputs": [
    {
     "name": "stdout",
     "output_type": "stream",
     "text": [
      "[2 3]\n"
     ]
    }
   ],
   "source": [
    "#just like lists,you can  use : to specifiy \"from the begining\"\n",
    "# or \"till the end\"\n",
    "print(array1d[1:])"
   ]
  },
  {
   "cell_type": "code",
   "execution_count": 12,
   "metadata": {},
   "outputs": [
    {
     "name": "stdout",
     "output_type": "stream",
     "text": [
      "[4 5]\n"
     ]
    }
   ],
   "source": [
    "print(array2d[1,:2]) #this will print the elements in the second\n",
    "#row from the first element  in the second row (not include the second elemt)"
   ]
  },
  {
   "cell_type": "code",
   "execution_count": 14,
   "metadata": {},
   "outputs": [],
   "source": [
    "#there are other coolways to index numpy array\n",
    "new2dArray = np.array(([1,2,4,5,9],[3,4,6,6,10],[15,3,2,14,7]))\n",
    "\n"
   ]
  },
  {
   "cell_type": "code",
   "execution_count": 16,
   "metadata": {},
   "outputs": [
    {
     "name": "stdout",
     "output_type": "stream",
     "text": [
      "[ 6  9 14]\n"
     ]
    }
   ],
   "source": [
    "#let say u want the elements with indices [1,2],[0,4],[2,3]\n",
    "newSubArray=new2dArray[[1,0,2],[2,4,3]]\n",
    "print(newSubArray)"
   ]
  },
  {
   "cell_type": "code",
   "execution_count": 17,
   "metadata": {},
   "outputs": [
    {
     "data": {
      "text/plain": [
       "array([[False, False, False, False, False],\n",
       "       [False, False, False, False, False],\n",
       "       [ True, False, False,  True, False]])"
      ]
     },
     "execution_count": 17,
     "metadata": {},
     "output_type": "execute_result"
    }
   ],
   "source": [
    "#new2dArray > 10 will return an array with same size and shape \n",
    "# as the original array\n",
    "#each element of the array will  be a boolean\n",
    "new2dArray>10"
   ]
  },
  {
   "cell_type": "code",
   "execution_count": null,
   "metadata": {},
   "outputs": [],
   "source": [
    "arrayOfzeros = np.zeros((2,2))\n",
    "arrayOfones = np.ones((1,2)) #defauly data type=float\n",
    "arraywithConstantValue = np.full(new2dArray.shape,7) #create an array\n",
    "#with the same size and shape as new2darray and fill with 7\n",
    "\n",
    "identitymatrix = np.eye(2)"
   ]
  },
  {
   "cell_type": "code",
   "execution_count": 19,
   "metadata": {},
   "outputs": [
    {
     "name": "stdout",
     "output_type": "stream",
     "text": [
      "[[ 1  2  4  5  9  3  4  6  6 10 15  3  2 14  7]]\n"
     ]
    }
   ],
   "source": [
    "#reshape matrix\n",
    "reshapedArray=np.reshape(new2dArray, [1,15])\n",
    "print(reshapedArray)"
   ]
  },
  {
   "cell_type": "code",
   "execution_count": 23,
   "metadata": {},
   "outputs": [
    {
     "data": {
      "text/plain": [
       "array([5, 7, 9])"
      ]
     },
     "execution_count": 23,
     "metadata": {},
     "output_type": "execute_result"
    }
   ],
   "source": [
    "array1=np.array([[1,2,3],[4,5,6]])\n",
    "array2=np.array([[7,8,9],[3,2,1]])\n",
    "np.sum(array1, axis=0)"
   ]
  },
  {
   "cell_type": "code",
   "execution_count": null,
   "metadata": {},
   "outputs": [],
   "source": [
    "#stack array togehter using vstack or hstack"
   ]
  },
  {
   "cell_type": "code",
   "execution_count": 26,
   "metadata": {},
   "outputs": [],
   "source": [
    "#scipy has many modules that help us compute mathematica; functions\n",
    "#one example is the spatial module, given 2 points represented by\n",
    "#np array, scipy can help u find the distance between those points\n",
    "from scipy.spatial.distance import correlation,cosine,pdist,squareform"
   ]
  },
  {
   "cell_type": "code",
   "execution_count": 27,
   "metadata": {},
   "outputs": [
    {
     "data": {
      "text/plain": [
       "1.5"
      ]
     },
     "execution_count": 27,
     "metadata": {},
     "output_type": "execute_result"
    }
   ],
   "source": [
    "array1=np.array([0,1,0])\n",
    "array2=np.array([1,0,0])\n",
    "\n",
    "correlation(array1,array2) #find the distance"
   ]
  },
  {
   "cell_type": "code",
   "execution_count": null,
   "metadata": {},
   "outputs": [],
   "source": [
    "allPoints = np.vstack([array1,array2])\n",
    "d=squareform(pdist(allPoints,'euclidean'))\n"
   ]
  },
  {
   "cell_type": "code",
   "execution_count": null,
   "metadata": {},
   "outputs": [],
   "source": []
  }
 ],
 "metadata": {
  "kernelspec": {
   "display_name": "Python 3",
   "language": "python",
   "name": "python3"
  },
  "language_info": {
   "codemirror_mode": {
    "name": "ipython",
    "version": 3
   },
   "file_extension": ".py",
   "mimetype": "text/x-python",
   "name": "python",
   "nbconvert_exporter": "python",
   "pygments_lexer": "ipython3",
   "version": "3.5.6"
  }
 },
 "nbformat": 4,
 "nbformat_minor": 2
}
